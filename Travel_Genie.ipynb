{
  "nbformat": 4,
  "nbformat_minor": 0,
  "metadata": {
    "colab": {
      "provenance": []
    },
    "kernelspec": {
      "name": "python3",
      "display_name": "Python 3"
    },
    "language_info": {
      "name": "python"
    }
  },
  "cells": [
    {
      "cell_type": "code",
      "execution_count": 6,
      "metadata": {
        "id": "_1izdKH4CSa2"
      },
      "outputs": [],
      "source": [
        "import pandas as pd\n",
        "from sklearn.model_selection import train_test_split\n",
        "from sklearn.metrics.pairwise import cosine_similarity\n",
        "import numpy as np"
      ]
    },
    {
      "cell_type": "markdown",
      "source": [
        "# **Data Preprocessing**"
      ],
      "metadata": {
        "id": "OgzHFPRqDQiv"
      }
    },
    {
      "cell_type": "code",
      "source": [
        "import pandas as pd\n",
        "\n",
        "# Load datasets\n",
        "users_df = pd.read_csv('Expanded_Users.csv')\n",
        "user_history_df = pd.read_csv('Expanded_UserHistory.csv')\n",
        "destinations_df = pd.read_csv('Destinations_4Travel.csv')"
      ],
      "metadata": {
        "id": "gNFPxESIDZVN"
      },
      "execution_count": 8,
      "outputs": []
    },
    {
      "cell_type": "code",
      "source": [
        "# Display the first few rows of each dataset to understand their structure\n",
        "print(users_df.head())\n",
        "print(user_history_df.head())\n",
        "print(destinations_df.head())"
      ],
      "metadata": {
        "colab": {
          "base_uri": "https://localhost:8080/"
        },
        "id": "j2d1LhoNFIYM",
        "outputId": "52508276-02b2-4139-cc8e-7f0ee4f59ed4"
      },
      "execution_count": 9,
      "outputs": [
        {
          "output_type": "stream",
          "name": "stdout",
          "text": [
            "   UserID   Name              Email          Preferences  Gender  \\\n",
            "0       1  Kavya  kavya@example.com  Beaches, Historical  Female   \n",
            "1       2  Rohan  rohan@example.com    Nature, Adventure    Male   \n",
            "2       3  Kavya  kavya@example.com     City, Historical  Female   \n",
            "3       4  Anika  anika@example.com  Beaches, Historical  Female   \n",
            "4       5  Tanvi  tanvi@example.com    Nature, Adventure  Female   \n",
            "\n",
            "   NumberOfAdults  NumberOfChildren  \n",
            "0               1                 0  \n",
            "1               2                 2  \n",
            "2               2                 0  \n",
            "3               1                 0  \n",
            "4               2                 2  \n",
            "   HistoryID  UserID  DestinationID   VisitDate  ExperienceRating\n",
            "0          1     525            760  2024-01-01                 3\n",
            "1          2     184            532  2024-02-15                 5\n",
            "2          3     897            786  2024-03-20                 2\n",
            "3          4     470            660  2024-01-01                 1\n",
            "4          5     989            389  2024-02-15                 4\n",
            "   DestinationID               Name              State        Type  \\\n",
            "0              1          Taj Mahal      Uttar Pradesh  Historical   \n",
            "1              2        Goa Beaches                Goa       Beach   \n",
            "2              3        Jaipur City          Rajasthan        City   \n",
            "3              4  Kerala Backwaters             Kerala      Nature   \n",
            "4              5         Leh Ladakh  Jammu and Kashmir   Adventure   \n",
            "\n",
            "   Popularity BestTimeToVisit  \n",
            "0    8.691906         Nov-Feb  \n",
            "1    8.605032         Nov-Mar  \n",
            "2    9.225372         Oct-Mar  \n",
            "3    7.977386         Sep-Mar  \n",
            "4    8.399822         Apr-Jun  \n"
          ]
        }
      ]
    },
    {
      "cell_type": "code",
      "source": [
        "# Merging user profiles with their history\n",
        "merged_df = pd.merge(user_history_df, users_df, on='UserID')"
      ],
      "metadata": {
        "id": "E5ix6KN4FR2Z"
      },
      "execution_count": 10,
      "outputs": []
    },
    {
      "cell_type": "code",
      "source": [
        "# Display the first few rows of the merged dataframe\n",
        "print(merged_df.head())"
      ],
      "metadata": {
        "colab": {
          "base_uri": "https://localhost:8080/"
        },
        "id": "Pvs3hLYbFX9p",
        "outputId": "acbecc72-f31b-4775-9d52-df65ececd8f0"
      },
      "execution_count": 11,
      "outputs": [
        {
          "output_type": "stream",
          "name": "stdout",
          "text": [
            "   HistoryID  UserID  DestinationID   VisitDate  ExperienceRating    Name  \\\n",
            "0          1     525            760  2024-01-01                 3  Saanvi   \n",
            "1          2     184            532  2024-02-15                 5  Ishaan   \n",
            "2        528     184            394  2024-03-20                 3  Ishaan   \n",
            "3        676     184            878  2024-01-01                 3  Ishaan   \n",
            "4        693     184            485  2024-03-20                 1  Ishaan   \n",
            "\n",
            "                Email          Preferences  Gender  NumberOfAdults  \\\n",
            "0  saanvi@example.com     City, Historical  Female               2   \n",
            "1  ishaan@example.com  Beaches, Historical    Male               1   \n",
            "2  ishaan@example.com  Beaches, Historical    Male               1   \n",
            "3  ishaan@example.com  Beaches, Historical    Male               1   \n",
            "4  ishaan@example.com  Beaches, Historical    Male               1   \n",
            "\n",
            "   NumberOfChildren  \n",
            "0                 2  \n",
            "1                 2  \n",
            "2                 2  \n",
            "3                 2  \n",
            "4                 2  \n"
          ]
        }
      ]
    },
    {
      "cell_type": "code",
      "source": [
        "# Creating a pivot table to get the user-item interaction matrix\n",
        "user_item_matrix = pd.crosstab(merged_df['UserID'], merged_df['DestinationID'])\n",
        "\n",
        "# Display the first few rows of the user-item interaction matrix\n",
        "print(user_item_matrix.head())"
      ],
      "metadata": {
        "colab": {
          "base_uri": "https://localhost:8080/"
        },
        "id": "hhYiOrnzFaX3",
        "outputId": "dbd30248-131c-442c-cc6e-9d6bc2e78c8d"
      },
      "execution_count": 12,
      "outputs": [
        {
          "output_type": "stream",
          "name": "stdout",
          "text": [
            "DestinationID  2     3     4     5     6     7     8     9     10    11    \\\n",
            "UserID                                                                      \n",
            "1                 0     0     0     0     0     0     0     0     0     0   \n",
            "2                 0     0     0     0     0     0     0     0     0     0   \n",
            "3                 0     0     0     0     0     0     0     0     0     0   \n",
            "5                 0     0     0     0     0     0     0     0     0     0   \n",
            "7                 0     0     0     0     0     0     0     0     0     0   \n",
            "\n",
            "DestinationID  ...  987   988   990   991   993   994   996   997   998   1000  \n",
            "UserID         ...                                                              \n",
            "1              ...     0     0     0     0     0     0     0     0     0     0  \n",
            "2              ...     0     0     0     0     0     0     0     0     0     0  \n",
            "3              ...     0     0     0     0     0     0     0     0     0     0  \n",
            "5              ...     0     0     0     0     0     0     0     0     0     0  \n",
            "7              ...     0     0     0     0     0     0     0     0     0     0  \n",
            "\n",
            "[5 rows x 638 columns]\n"
          ]
        }
      ]
    },
    {
      "cell_type": "markdown",
      "source": [
        "# **Recommendation Site**"
      ],
      "metadata": {
        "id": "JhwID3GuFid9"
      }
    },
    {
      "cell_type": "code",
      "source": [
        "from sklearn.preprocessing import StandardScaler\n",
        "from sklearn.decomposition import TruncatedSVD\n",
        "from sklearn.metrics.pairwise import cosine_similarity\n",
        "import numpy as np\n",
        "\n",
        "# Normalizing the user-item matrix\n",
        "scaler = StandardScaler()\n",
        "user_item_matrix_scaled = scaler.fit_transform(user_item_matrix)\n",
        "\n",
        "# Applying Truncated SVD for dimensionality reduction\n",
        "svd = TruncatedSVD(n_components=50, random_state=42)\n",
        "latent_matrix = svd.fit_transform(user_item_matrix_scaled)\n",
        "\n",
        "# Computing the similarity matrix\n",
        "similarity_matrix = cosine_similarity(latent_matrix)"
      ],
      "metadata": {
        "id": "Nr95kLFcFdkn"
      },
      "execution_count": 13,
      "outputs": []
    },
    {
      "cell_type": "code",
      "source": [
        "# Recommendation function\n",
        "def recommend(user_id, user_features, similarity_matrix, top_n=5):\n",
        "    user_idx = user_features.index.get_loc(user_id)\n",
        "    similar_users = np.argsort(similarity_matrix[user_idx])[::-1]\n",
        "\n",
        "    recommended_destinations = {}\n",
        "    for sim_user in similar_users:\n",
        "        for destination in user_features.columns:\n",
        "            if user_features.iloc[sim_user][destination] > 0 and user_features.iloc[user_idx][destination] == 0:\n",
        "                if destination not in recommended_destinations:\n",
        "                    recommended_destinations[destination] = similarity_matrix[user_idx][sim_user]\n",
        "                else:\n",
        "                    recommended_destinations[destination] += similarity_matrix[user_idx][sim_user]\n",
        "\n",
        "    recommended_destinations = sorted(recommended_destinations.items(), key=lambda x: x[1], reverse=True)[:top_n]\n",
        "    return [destination for destination, _ in recommended_destinations]\n",
        "\n",
        "# Example recommendation for a user\n",
        "user_id = user_item_matrix.index[0]\n",
        "recommendations = recommend(user_id, user_item_matrix, similarity_matrix)\n",
        "print(f\"Recommended Destinations for User {user_id}:\", recommendations)"
      ],
      "metadata": {
        "colab": {
          "base_uri": "https://localhost:8080/"
        },
        "id": "AWDzXiBAFwpC",
        "outputId": "2240ebb5-24f5-4ce5-f73d-9e569334b090"
      },
      "execution_count": 14,
      "outputs": [
        {
          "output_type": "stream",
          "name": "stdout",
          "text": [
            "Recommended Destinations for User 1: [114, 21, 250, 135, 372]\n"
          ]
        }
      ]
    },
    {
      "cell_type": "markdown",
      "source": [
        "# **ChatBot(Customer Support)**"
      ],
      "metadata": {
        "id": "AOQxJgDJF-Jd"
      }
    },
    {
      "cell_type": "code",
      "source": [
        "import nltk\n",
        "from nltk.chat.util import Chat, reflections"
      ],
      "metadata": {
        "id": "PMnf6hTyF0lz"
      },
      "execution_count": 15,
      "outputs": []
    },
    {
      "cell_type": "code",
      "source": [
        "# Define pairs of patterns and responses\n",
        "pairs = [\n",
        "    [\n",
        "        r\"(.*) (location|city) ?\",\n",
        "        [\"We provide recommendations for multiple locations. Could you please specify which type of destination you are looking for?\"]\n",
        "    ],\n",
        "    [\n",
        "        r\"(.*) (price|cost) ?\",\n",
        "        [\"Our recommendations are tailored to fit various budget ranges. Could you please specify your budget?\"]\n",
        "    ],\n",
        "    [\n",
        "        r\"quit\",\n",
        "        [\"Thank you for using Travel-Ease. Have a great day!\"]\n",
        "    ],\n",
        "]"
      ],
      "metadata": {
        "id": "VZ52GvZDGG26"
      },
      "execution_count": 16,
      "outputs": []
    },
    {
      "cell_type": "code",
      "source": [
        "# Create the chatbot\n",
        "chatbot = Chat(pairs, reflections)\n",
        "\n",
        "# Interact with the chatbot\n",
        "print(\"Hi, how can I assist you today?\")\n",
        "chatbot.converse()"
      ],
      "metadata": {
        "colab": {
          "base_uri": "https://localhost:8080/"
        },
        "id": "QLSjeEhiGKVH",
        "outputId": "b1af1802-e5a9-4f50-8a62-edd35c59766f"
      },
      "execution_count": 17,
      "outputs": [
        {
          "output_type": "stream",
          "name": "stdout",
          "text": [
            "Hi, how can I assist you today?\n",
            ">no thanks quit\n",
            "None\n",
            ">quit\n",
            "Thank you for using Travel-Ease. Have a great day!\n"
          ]
        }
      ]
    },
    {
      "cell_type": "markdown",
      "source": [
        "# **Prototype Validation**"
      ],
      "metadata": {
        "id": "Dmwn2gXHGX51"
      }
    },
    {
      "cell_type": "code",
      "source": [
        "# Function to validate recommendations (simplified example)\n",
        "def validate_recommendations():\n",
        "    test_users = user_item_matrix.index[:5]  # Select a small set of test users\n",
        "    for user_id in test_users:\n",
        "        recommendations = recommend(user_id, user_item_matrix, similarity_matrix)\n",
        "        print(f\"Recommended Destinations for User {user_id}:\", recommendations)"
      ],
      "metadata": {
        "id": "D7wy9DxLGNYE"
      },
      "execution_count": 18,
      "outputs": []
    },
    {
      "cell_type": "code",
      "source": [
        "# Validate the recommendations\n",
        "validate_recommendations()\n",
        "\n",
        "# Example interaction with the chatbot\n",
        "print(\"Hi, how can I assist you today?\")\n",
        "chatbot.converse()"
      ],
      "metadata": {
        "colab": {
          "base_uri": "https://localhost:8080/"
        },
        "id": "Ro-De_1FGgGB",
        "outputId": "23e845bb-ae73-413f-f40a-3170cbe4130d"
      },
      "execution_count": 19,
      "outputs": [
        {
          "output_type": "stream",
          "name": "stdout",
          "text": [
            "Recommended Destinations for User 1: [114, 21, 250, 135, 372]\n",
            "Recommended Destinations for User 2: [952, 135, 315, 113, 978]\n",
            "Recommended Destinations for User 3: [872, 732, 239, 661, 259]\n",
            "Recommended Destinations for User 5: [555, 135, 723, 389, 346]\n",
            "Recommended Destinations for User 7: [748, 366, 230, 7, 531]\n",
            "Hi, how can I assist you today?\n",
            ">bye quit\n",
            "None\n",
            ">quit\n",
            "Thank you for using Travel-Ease. Have a great day!\n"
          ]
        }
      ]
    },
    {
      "cell_type": "code",
      "source": [],
      "metadata": {
        "id": "waNKbBV1Giu0"
      },
      "execution_count": null,
      "outputs": []
    }
  ]
}